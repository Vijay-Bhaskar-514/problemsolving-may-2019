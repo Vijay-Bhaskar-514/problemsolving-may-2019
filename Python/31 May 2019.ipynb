{
 "cells": [
  {
   "cell_type": "markdown",
   "metadata": {},
   "source": [
    "# JNTUA FDP - Day 05\n",
    "### Date 31 May 2019\n",
    "#### Day Objectives\n",
    "* Tuples\n",
    "* Dictionaries\n",
    "* Linear and Binary Search\n",
    "* Data Arithmetic\n",
    "* Iterators and Generators\n",
    "* Functional Programming"
   ]
  },
  {
   "cell_type": "markdown",
   "metadata": {},
   "source": [
    "#### Python Tuples\n"
   ]
  },
  {
   "cell_type": "code",
   "execution_count": 5,
   "metadata": {},
   "outputs": [],
   "source": [
    "t1  = (1001,'bhaskar',72,90)"
   ]
  },
  {
   "cell_type": "code",
   "execution_count": 6,
   "metadata": {},
   "outputs": [
    {
     "data": {
      "text/plain": [
       "(1001, 'bhaskar', 72, 90)"
      ]
     },
     "execution_count": 6,
     "metadata": {},
     "output_type": "execute_result"
    }
   ],
   "source": [
    "t1"
   ]
  },
  {
   "cell_type": "code",
   "execution_count": 7,
   "metadata": {},
   "outputs": [
    {
     "data": {
      "text/plain": [
       "1001"
      ]
     },
     "execution_count": 7,
     "metadata": {},
     "output_type": "execute_result"
    }
   ],
   "source": [
    "t1[0]"
   ]
  },
  {
   "cell_type": "code",
   "execution_count": 9,
   "metadata": {},
   "outputs": [
    {
     "data": {
      "text/plain": [
       "(72, 90)"
      ]
     },
     "execution_count": 9,
     "metadata": {},
     "output_type": "execute_result"
    }
   ],
   "source": [
    "t1[2:]"
   ]
  },
  {
   "cell_type": "code",
   "execution_count": 15,
   "metadata": {},
   "outputs": [
    {
     "data": {
      "text/plain": [
       "('2', '5', '8')"
      ]
     },
     "execution_count": 15,
     "metadata": {},
     "output_type": "execute_result"
    }
   ],
   "source": [
    "t2=(321,654,789098)\n",
    "str(t2[0])[1], str(t2[1])[1], str(t2[2])[1]"
   ]
  },
  {
   "cell_type": "code",
   "execution_count": 13,
   "metadata": {},
   "outputs": [
    {
     "name": "stdout",
     "output_type": "stream",
     "text": [
      "2 5 8\n"
     ]
    }
   ],
   "source": [
    "t2=(321,654,789098)\n",
    "print(str(t2[0])[1],str(t2[1])[1],str(t2[2])[1])\n"
   ]
  },
  {
   "cell_type": "code",
   "execution_count": 22,
   "metadata": {},
   "outputs": [
    {
     "data": {
      "text/plain": [
       "317.8"
      ]
     },
     "execution_count": 22,
     "metadata": {},
     "output_type": "execute_result"
    }
   ],
   "source": [
    "# Average of all elements in a tuple\n",
    "def averageLinearDs(t):\n",
    "    sum = 0\n",
    "    for i in range(0,len(t)):\n",
    "        sum +=t[i]\n",
    "    return sum/len(t)\n",
    "li=[123,243,456,678,89]\n",
    "\n",
    "averageLinearDs(li)"
   ]
  },
  {
   "cell_type": "code",
   "execution_count": 81,
   "metadata": {},
   "outputs": [
    {
     "data": {
      "text/plain": [
       "317.8"
      ]
     },
     "execution_count": 81,
     "metadata": {},
     "output_type": "execute_result"
    }
   ],
   "source": [
    "# Average of all elements in a tuple\n",
    "def averageLinearDs(t):\n",
    "    sum = 0\n",
    "    for item in t:    #  using iterator\n",
    "        sum +=item\n",
    "    return sum/len(t)\n",
    "li=[123,243,456,678,89]\n",
    "\n",
    "averageLinearDs(li)"
   ]
  },
  {
   "cell_type": "code",
   "execution_count": 44,
   "metadata": {},
   "outputs": [
    {
     "data": {
      "text/plain": [
       "-1"
      ]
     },
     "execution_count": 44,
     "metadata": {},
     "output_type": "execute_result"
    }
   ],
   "source": [
    "# Function to search in linear Data structure\n",
    "def searchLinearDs(ds,key):\n",
    "    for i in range(0,len(ds)):\n",
    "        if(key==ds[i]):\n",
    "            return i\n",
    "    return -1\n",
    "            \n",
    "li=[123,243,456,678,89]\n",
    "s=4565\n",
    "searchLinearDs(li,s)"
   ]
  },
  {
   "cell_type": "code",
   "execution_count": 80,
   "metadata": {},
   "outputs": [
    {
     "data": {
      "text/plain": [
       "317.8"
      ]
     },
     "execution_count": 80,
     "metadata": {},
     "output_type": "execute_result"
    }
   ],
   "source": [
    "# Average of all elements in a tuple\n",
    "def averageLinearDs(t):\n",
    "    sum = 0\n",
    "    for item in t:\n",
    "        sum +=item\n",
    "    return sum/len(t)\n",
    "li=[123,243,456,678,89]\n",
    "\n",
    "averageLinearDs(li)"
   ]
  },
  {
   "cell_type": "markdown",
   "metadata": {},
   "source": [
    "# Iterable Objects"
   ]
  },
  {
   "cell_type": "code",
   "execution_count": 45,
   "metadata": {},
   "outputs": [
    {
     "name": "stdout",
     "output_type": "stream",
     "text": [
      "p\n",
      "a\n",
      "h\n"
     ]
    }
   ],
   "source": [
    "s='pah'\n",
    "for c in s:\n",
    "    print(c)"
   ]
  },
  {
   "cell_type": "code",
   "execution_count": 50,
   "metadata": {},
   "outputs": [
    {
     "data": {
      "text/plain": [
       "678"
      ]
     },
     "execution_count": 50,
     "metadata": {},
     "output_type": "execute_result"
    }
   ],
   "source": [
    "# Function to find maximum element in a ds using iterable Object\n",
    "def maxElementDS(ds):\n",
    "    maximum=ds[0]\n",
    "    for item in ds:\n",
    "        if item > maximum:\n",
    "            maximum=item\n",
    "    return maximum\n",
    "maxElementDS(li)"
   ]
  },
  {
   "cell_type": "markdown",
   "metadata": {},
   "source": [
    "## Python Dictionaries"
   ]
  },
  {
   "cell_type": "code",
   "execution_count": 56,
   "metadata": {},
   "outputs": [
    {
     "name": "stdout",
     "output_type": "stream",
     "text": [
      "{'name1': 1234, 'name2': 5678}\n",
      "5678\n",
      "dict_keys(['name1', 'name2'])\n",
      "dict_values([1234, 5678])\n"
     ]
    }
   ],
   "source": [
    "d1={'name1':1234,'name2':5678}\n",
    "print(d1)\n",
    "print(d1['name2'])\n",
    "print(d1.keys())# All Keys in a dictionary are unique\n",
    "print(d1.values())\n"
   ]
  },
  {
   "cell_type": "code",
   "execution_count": 57,
   "metadata": {},
   "outputs": [
    {
     "data": {
      "text/plain": [
       "{'name1': 1234, 'name2': 5678, 'name3': 7865}"
      ]
     },
     "execution_count": 57,
     "metadata": {},
     "output_type": "execute_result"
    }
   ],
   "source": [
    "d1['name3']=7865\n",
    "d1\n"
   ]
  },
  {
   "cell_type": "code",
   "execution_count": 58,
   "metadata": {},
   "outputs": [
    {
     "data": {
      "text/plain": [
       "{'name1': 1234, 'name2': 5678}"
      ]
     },
     "execution_count": 58,
     "metadata": {},
     "output_type": "execute_result"
    }
   ],
   "source": [
    "d1.pop('name3')#removes a key and value\n",
    "d1"
   ]
  },
  {
   "cell_type": "code",
   "execution_count": 59,
   "metadata": {},
   "outputs": [
    {
     "data": {
      "text/plain": [
       "{'name1': 1234, 'name2': 5678, 'name3': 'bachi'}"
      ]
     },
     "execution_count": 59,
     "metadata": {},
     "output_type": "execute_result"
    }
   ],
   "source": [
    "d1['name3']='bachi'\n",
    "d1\n"
   ]
  },
  {
   "cell_type": "code",
   "execution_count": 82,
   "metadata": {},
   "outputs": [],
   "source": [
    "# simple Contacts application   (pending)\n",
    "# Dispay, Add, Modify, and Delete Contacts\n",
    "contacts={}\n",
    "def addContact(d,name,phone):\n",
    "    d[name]=phone\n",
    "    return\n",
    "\n",
    "def displayContacts(contacts):\n",
    "    for name,phone in contacts.items():\n",
    "        print(name,\":\",phone)\n",
    "    return\n",
    "def modifyContacts(contacts,name,newphone):\n",
    "    contacts[name]=newphone\n",
    "    return\n",
    "def deleteContact(contacts,name):\n",
    "    contacts.pop(name)\n",
    "    return"
   ]
  },
  {
   "cell_type": "code",
   "execution_count": 83,
   "metadata": {},
   "outputs": [
    {
     "name": "stdout",
     "output_type": "stream",
     "text": [
      "name1 : 987899\n",
      "name2 : 34567\n"
     ]
    }
   ],
   "source": [
    "addContact(contacts,'name1',987899)\n",
    "addContact(contacts,'name2',34567)\n",
    "\n",
    "displayContacts(contacts)"
   ]
  },
  {
   "cell_type": "code",
   "execution_count": 73,
   "metadata": {},
   "outputs": [
    {
     "name": "stdout",
     "output_type": "stream",
     "text": [
      "<class 'list_reverseiterator'>\n",
      "4\n",
      "3\n",
      "2\n",
      "1\n"
     ]
    }
   ],
   "source": [
    "li=[1,2,3,4]\n",
    "li=reversed(li)\n",
    "print(type(li))\n",
    "for i in li:\n",
    "    print(i)"
   ]
  },
  {
   "cell_type": "code",
   "execution_count": 74,
   "metadata": {},
   "outputs": [
    {
     "name": "stdout",
     "output_type": "stream",
     "text": [
      "<class 'list'>\n",
      "4\n",
      "3\n",
      "2\n",
      "1\n"
     ]
    }
   ],
   "source": [
    "li=[1,2,3,4]\n",
    "li=list(reversed(li))\n",
    "print(type(li))\n",
    "for i in li:\n",
    "    print(i)"
   ]
  },
  {
   "cell_type": "code",
   "execution_count": 75,
   "metadata": {},
   "outputs": [
    {
     "name": "stdout",
     "output_type": "stream",
     "text": [
      "0 : 4\n",
      "1 : 3\n",
      "2 : 2\n",
      "3 : 1\n"
     ]
    }
   ],
   "source": [
    "enumerate(li)\n",
    "for i,value in enumerate(li):\n",
    "    print(i,\":\",value)\n",
    "    "
   ]
  },
  {
   "cell_type": "code",
   "execution_count": 76,
   "metadata": {},
   "outputs": [
    {
     "name": "stdout",
     "output_type": "stream",
     "text": [
      "1 5\n",
      "2 6\n",
      "3 7\n",
      "4 8\n"
     ]
    }
   ],
   "source": [
    "li1=[1,2,3,4]\n",
    "li2=[5,6,7,8,9]\n",
    "for i,j in zip(li1,li2): #displays same minimum number of elements(in li1 there are 4 so we will get  values)\n",
    "    print(i,j)\n"
   ]
  },
  {
   "cell_type": "markdown",
   "metadata": {},
   "source": [
    "## Python Regular Expressions"
   ]
  },
  {
   "cell_type": "code",
   "execution_count": null,
   "metadata": {},
   "outputs": [],
   "source": [
    "import re\n",
    "number=\"9989594682\"\n",
    "if re.match(\"/^[6-9]\\d{9}$/\",number):\n",
    "    print(\"YES\")\n",
    "else:\n",
    "    print(\"no\")"
   ]
  },
  {
   "cell_type": "code",
   "execution_count": null,
   "metadata": {},
   "outputs": [],
   "source": [
    "import re\n",
    "def phoneNumberValidator(phone):\n",
    "    phone=str(phone)\n",
    "    pattern='^[6-9][0-9]{9}$'\n",
    "    if re.match(pattern,phone):\n",
    "        return True\n",
    "    return False\n",
    "phoneNumberValidator(1234567890)\n",
    "\n"
   ]
  },
  {
   "cell_type": "code",
   "execution_count": 1,
   "metadata": {},
   "outputs": [
    {
     "name": "stdout",
     "output_type": "stream",
     "text": [
      "hello\n"
     ]
    }
   ],
   "source": [
    "print('hello')\n"
   ]
  },
  {
   "cell_type": "markdown",
   "metadata": {},
   "source": [
    "### Date and Time"
   ]
  },
  {
   "cell_type": "code",
   "execution_count": 2,
   "metadata": {},
   "outputs": [
    {
     "data": {
      "text/plain": [
       "31"
      ]
     },
     "execution_count": 2,
     "metadata": {},
     "output_type": "execute_result"
    }
   ],
   "source": [
    "import datetime\n",
    "now=datetime.datetime.now()\n",
    "now.day"
   ]
  },
  {
   "cell_type": "code",
   "execution_count": 3,
   "metadata": {},
   "outputs": [
    {
     "data": {
      "text/plain": [
       "datetime.date(2019, 5, 31)"
      ]
     },
     "execution_count": 3,
     "metadata": {},
     "output_type": "execute_result"
    }
   ],
   "source": [
    "datetime.date.today()"
   ]
  },
  {
   "cell_type": "code",
   "execution_count": 10,
   "metadata": {},
   "outputs": [
    {
     "name": "stdout",
     "output_type": "stream",
     "text": [
      "6 days, 0:00:00\n"
     ]
    }
   ],
   "source": [
    "#Function to find  the difference in two given dates\n",
    "#yyyy mm dd date format as a string\n",
    "import datetime\n",
    "def dateDifference(date1,date2):\n",
    "    year1=int(date1[:4])\n",
    "    month1=int(date1[5:7])\n",
    "    day1=int(date1[8:])\n",
    "    year2=int(date2[:4])\n",
    "    month2=int(date2[5:7])\n",
    "    day2=int(date2[8:])\n",
    "    d1=datetime.date(year1,month1,day1) # convert into first date object\n",
    "    d2=datetime.date(year2,month2,day2) # convert into second date object\n",
    "    return d2-d1\n",
    "    print(year1,month1,day1)\n",
    "print(dateDifference('2019:05:27','2019:06:02')) # dates are in string\n",
    "    \n"
   ]
  },
  {
   "cell_type": "code",
   "execution_count": 12,
   "metadata": {},
   "outputs": [
    {
     "data": {
      "text/plain": [
       "True"
      ]
     },
     "execution_count": 12,
     "metadata": {},
     "output_type": "execute_result"
    }
   ],
   "source": [
    "import calendar\n",
    "calendar.isleap(2016)"
   ]
  },
  {
   "cell_type": "code",
   "execution_count": 27,
   "metadata": {},
   "outputs": [
    {
     "data": {
      "text/plain": [
       "True"
      ]
     },
     "execution_count": 27,
     "metadata": {},
     "output_type": "execute_result"
    }
   ],
   "source": [
    "def isleap(year):\n",
    "    if(year%4==0 and year%100!=0)or (year%400==0):\n",
    "        return  True\n",
    "    return False\n",
    "   \n",
    "    \n",
    "isleap(2020)"
   ]
  },
  {
   "cell_type": "code",
   "execution_count": 49,
   "metadata": {},
   "outputs": [
    {
     "name": "stdout",
     "output_type": "stream",
     "text": [
      "leap year\n"
     ]
    }
   ],
   "source": [
    "def isleap(year):\n",
    "    if(year%4==0 and year%100!=0)or (year%400==0):\n",
    "        return  print('leap year')\n",
    "    return print('not a leap year')\n",
    "   \n",
    "    \n",
    "isleap(2020)"
   ]
  },
  {
   "cell_type": "markdown",
   "metadata": {},
   "source": [
    "### List Compression"
   ]
  },
  {
   "cell_type": "code",
   "execution_count": 29,
   "metadata": {},
   "outputs": [
    {
     "name": "stdout",
     "output_type": "stream",
     "text": [
      "range(0, 123)\n"
     ]
    },
    {
     "data": {
      "text/plain": [
       "7503"
      ]
     },
     "execution_count": 29,
     "metadata": {},
     "output_type": "execute_result"
    }
   ],
   "source": [
    "li=[1,2,3,4,5,6]\n",
    "n=123\n",
    "print(range(n))\n",
    "sum(range(123))"
   ]
  },
  {
   "cell_type": "code",
   "execution_count": 30,
   "metadata": {},
   "outputs": [
    {
     "data": {
      "text/plain": [
       "[0, 1, 2, 3, 4, 5, 6, 7, 8]"
      ]
     },
     "execution_count": 30,
     "metadata": {},
     "output_type": "execute_result"
    }
   ],
   "source": [
    "list(range(9))"
   ]
  },
  {
   "cell_type": "code",
   "execution_count": 32,
   "metadata": {},
   "outputs": [
    {
     "data": {
      "text/plain": [
       "45"
      ]
     },
     "execution_count": 32,
     "metadata": {},
     "output_type": "execute_result"
    }
   ],
   "source": [
    "sum(list(range(9+1)))# sum of n natural numbers"
   ]
  },
  {
   "cell_type": "code",
   "execution_count": 33,
   "metadata": {},
   "outputs": [
    {
     "data": {
      "text/plain": [
       "[1.0,\n",
       " 1.4142135623730951,\n",
       " 1.7320508075688772,\n",
       " 2.0,\n",
       " 2.23606797749979,\n",
       " 2.449489742783178,\n",
       " 2.6457513110645907,\n",
       " 2.8284271247461903,\n",
       " 3.0,\n",
       " 3.1622776601683795]"
      ]
     },
     "execution_count": 33,
     "metadata": {},
     "output_type": "execute_result"
    }
   ],
   "source": [
    "#caluclate sum of squareroot of n natural numbers\n",
    "from math import sqrt\n",
    "def sqrtNNaturalNumbers(n):\n",
    "    return [sqrt(i) for i in list(range(1,n+1))]\n",
    "sqrtNNaturalNumbers(10)"
   ]
  },
  {
   "cell_type": "code",
   "execution_count": 34,
   "metadata": {},
   "outputs": [
    {
     "data": {
      "text/plain": [
       "22.4682781862041"
      ]
     },
     "execution_count": 34,
     "metadata": {},
     "output_type": "execute_result"
    }
   ],
   "source": [
    "#caluclate sum of squareroot of n natural numbers\n",
    "from math import sqrt\n",
    "def sumsqrtNNaturalNumbers(n):\n",
    "    return sum([sqrt(i) for i in list(range(1,n+1))])\n",
    "sumsqrtNNaturalNumbers(10)"
   ]
  },
  {
   "cell_type": "code",
   "execution_count": 36,
   "metadata": {},
   "outputs": [
    {
     "data": {
      "text/plain": [
       "[1, 4, 9, 16, 25, 36]"
      ]
     },
     "execution_count": 36,
     "metadata": {},
     "output_type": "execute_result"
    }
   ],
   "source": [
    "#caluclating square of each value in the list\n",
    "def squareListElements(li):\n",
    "    return[i ** 2 for i in li] # li contain six values\n",
    "squareListElements(li)\n",
    "    "
   ]
  },
  {
   "cell_type": "code",
   "execution_count": 38,
   "metadata": {},
   "outputs": [
    {
     "name": "stdout",
     "output_type": "stream",
     "text": [
      "[1, 2, 3, 4, 5, 6, 7, 8, 9, 10, 11, 12, 13, 14, 15, 16, 17, 18, 19, 20, 21, 22, 23, 24, 25, 26, 27, 28, 29, 30, 31, 32, 33, 34, 35, 36, 37, 38, 39, 40, 41, 42, 43, 44, 45, 46, 47, 48, 49]\n"
     ]
    },
    {
     "data": {
      "text/plain": [
       "[9, 18, 27, 36, 45]"
      ]
     },
     "execution_count": 38,
     "metadata": {},
     "output_type": "execute_result"
    }
   ],
   "source": [
    "# design a functio using list copression to identify  of all values divided by 9 \n",
    "li=list(range(1,50))\n",
    "print(li)\n",
    "def divisible9LC(li):\n",
    "    return [i for i in li if i % 9==0]\n",
    "divisible9LC(li)# factors of 9"
   ]
  },
  {
   "cell_type": "code",
   "execution_count": 40,
   "metadata": {},
   "outputs": [
    {
     "name": "stdout",
     "output_type": "stream",
     "text": [
      "[1979, 1980, 1981, 1982, 1983, 1984, 1985, 1986, 1987, 1988, 1989, 1990, 1991, 1992, 1993, 1994, 1995, 1996, 1997, 1998, 1999, 2000, 2001, 2002, 2003, 2004, 2005, 2006, 2007, 2008, 2009, 2010, 2011, 2012, 2013, 2014, 2015, 2016, 2017, 2018]\n"
     ]
    },
    {
     "data": {
      "text/plain": [
       "[1980, 1984, 1988, 1992, 1996, 2000, 2004, 2008, 2012, 2016]"
      ]
     },
     "execution_count": 40,
     "metadata": {},
     "output_type": "execute_result"
    }
   ],
   "source": [
    "li=list(range(1979,2019))\n",
    "print(li)\n",
    "def divisible9LC(li):\n",
    "    return [i for i in li if (i % 4==0and i % 100!=0)or(i %400 == 0)]\n",
    "divisible9LC(li)# leap years between 1979 to 2019"
   ]
  },
  {
   "cell_type": "markdown",
   "metadata": {},
   "source": [
    "### Maps\n"
   ]
  },
  {
   "cell_type": "code",
   "execution_count": null,
   "metadata": {},
   "outputs": [],
   "source": [
    "# Functions and iterators are passed as parameters to map\n"
   ]
  },
  {
   "cell_type": "code",
   "execution_count": 48,
   "metadata": {},
   "outputs": [
    {
     "name": "stdout",
     "output_type": "stream",
     "text": [
      "[1, 8, 27, 64, 125, 216]\n"
     ]
    },
    {
     "data": {
      "text/plain": [
       "784"
      ]
     },
     "execution_count": 48,
     "metadata": {},
     "output_type": "execute_result"
    }
   ],
   "source": [
    "#Function to caluclate cubes of all numbers in a ist\n",
    "li=[1,2,3,4,5,6]\n",
    "def cube(n):\n",
    "    return n**3\n",
    "print(list(map(cube,li))) # take element from the list and set to cube function\n",
    "len(list(map(cube,li)))# no of values ans:6\n",
    "sum(list(map(cube,li)))# sum of all values ans: 441\n",
    "li=[1,2,3,4,5,6,7]\n",
    "sum([cube(i) for i in li])# by usinglist compression sum of cubes when li has 7 values ans:784\n"
   ]
  },
  {
   "cell_type": "code",
   "execution_count": 51,
   "metadata": {},
   "outputs": [
    {
     "name": "stdout",
     "output_type": "stream",
     "text": [
      "three\n"
     ]
    }
   ],
   "source": [
    "# Function to convert nmber into words\n",
    "\n",
    "def numberToWords(n):\n",
    "    d1={1:'one',2:'two',3:'three',4:'four'}\n",
    "    digit[]\n",
    "    i=0\n",
    "    while(n!=0):\n",
    "        digit[i]=n % 10\n",
    "        d1[digit]\n",
    "        n=n//10\n",
    "        i +=1\n",
    "    return\n",
    "numberToWords(12)\n"
   ]
  },
  {
   "cell_type": "code",
   "execution_count": null,
   "metadata": {},
   "outputs": [],
   "source": []
  }
 ],
 "metadata": {
  "kernelspec": {
   "display_name": "Python 3",
   "language": "python",
   "name": "python3"
  },
  "language_info": {
   "codemirror_mode": {
    "name": "ipython",
    "version": 3
   },
   "file_extension": ".py",
   "mimetype": "text/x-python",
   "name": "python",
   "nbconvert_exporter": "python",
   "pygments_lexer": "ipython3",
   "version": "3.7.3"
  }
 },
 "nbformat": 4,
 "nbformat_minor": 2
}
