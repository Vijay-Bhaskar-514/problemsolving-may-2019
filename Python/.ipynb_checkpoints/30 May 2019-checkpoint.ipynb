{
 "cells": [
  {
   "cell_type": "markdown",
   "metadata": {},
   "source": [
    "# Document Title\n",
    "\n",
    "### Date: 30 May 2019\n",
    "### Session Objectives\n",
    "* To Introduce Jupyter Notebooks\n",
    "* To teach ***Markdown*** syntax\n",
    "* To introduce **python** basics\n",
    "  * Basic Sntax(variables,Assignent, Data Types)\n",
    "  * Control Structures\n",
    "   1. Conditional\n",
    "   2. Repetitive\n",
    "    \n",
    "\n",
    "\n",
    "[Link to Main website](https://sites.google.com/view/pbrvits-python-may-2019/worklog/day04)\n",
    "\n",
    "<img src=\"python_img.jpg\">\n",
    "\n"
   ]
  },
  {
   "cell_type": "markdown",
   "metadata": {},
   "source": [
    "### Python basic\n",
    "\n",
    "\n",
    "\n"
   ]
  },
  {
   "cell_type": "code",
   "execution_count": 8,
   "metadata": {},
   "outputs": [
    {
     "name": "stdout",
     "output_type": "stream",
     "text": [
      "hello world!\n",
      "hello world : helloworld\n"
     ]
    }
   ],
   "source": [
    "print(\"hello world!\")#single parameter\n",
    "print(\"hello\",\"world\",end=\" : \")#Multiple parameters with end\n",
    "print(\"hello\"+\"world\")#concatenation using +\n"
   ]
  },
  {
   "cell_type": "code",
   "execution_count": 11,
   "metadata": {},
   "outputs": [
    {
     "name": "stdout",
     "output_type": "stream",
     "text": [
      "bachi\n"
     ]
    }
   ],
   "source": [
    "#This is a comment\n",
    "print(\"bachi\")\n",
    "#print(\"vijay\")"
   ]
  },
  {
   "cell_type": "code",
   "execution_count": 13,
   "metadata": {},
   "outputs": [
    {
     "name": "stdout",
     "output_type": "stream",
     "text": [
      "enter a value345\n",
      "\n",
      " 345\n"
     ]
    }
   ],
   "source": [
    "n=input(\"enter a value\")#capture input and store in a variable\n",
    "print('\\n',n)"
   ]
  },
  {
   "cell_type": "code",
   "execution_count": 15,
   "metadata": {},
   "outputs": [
    {
     "data": {
      "text/plain": [
       "-124323777.31031682"
      ]
     },
     "execution_count": 15,
     "metadata": {},
     "output_type": "execute_result"
    }
   ],
   "source": [
    "n=int(n)#type conversion to integer and reassiging\n",
    "n * n / 1231-124323874 #expression evaluation using standard operating pecedence\n",
    "\n"
   ]
  },
  {
   "cell_type": "code",
   "execution_count": 25,
   "metadata": {},
   "outputs": [
    {
     "name": "stdout",
     "output_type": "stream",
     "text": [
      "345\n",
      "345 345 345\n",
      "123 <class 'int'> 234 345\n"
     ]
    }
   ],
   "source": [
    "a=b=c=n #Assiging a single value to multile variables\n",
    "print(b)\n",
    "a\n",
    "print(a,b,c)\n",
    "a\n",
    "b\n",
    "c\n",
    "d,e,f = 123,234,345 #Assigning multiple values to multiple variable\n",
    "print(d,type(d),e,f)"
   ]
  },
  {
   "cell_type": "code",
   "execution_count": 23,
   "metadata": {},
   "outputs": [
    {
     "data": {
      "text/plain": [
       "int"
      ]
     },
     "execution_count": 23,
     "metadata": {},
     "output_type": "execute_result"
    }
   ],
   "source": [
    "type(c)\n"
   ]
  },
  {
   "cell_type": "code",
   "execution_count": 105,
   "metadata": {},
   "outputs": [
    {
     "name": "stdout",
     "output_type": "stream",
     "text": [
      "<class 'str'>\n",
      "<class 'float'>\n"
     ]
    }
   ],
   "source": [
    "#Type conversion\n",
    "type(c)\n",
    "c=str(c)\n",
    "print(type(c))\n",
    "c = float(c)\n",
    "print(type(c))"
   ]
  },
  {
   "cell_type": "code",
   "execution_count": 109,
   "metadata": {},
   "outputs": [
    {
     "name": "stdout",
     "output_type": "stream",
     "text": [
      "<class 'int'>\n"
     ]
    },
    {
     "data": {
      "text/plain": [
       "888353"
      ]
     },
     "execution_count": 109,
     "metadata": {},
     "output_type": "execute_result"
    }
   ],
   "source": [
    "#Higher Order Computation\n",
    "num= 987654321 ** 98765\n",
    "print(type(num)) \n",
    "len(str(num))"
   ]
  },
  {
   "cell_type": "markdown",
   "metadata": {},
   "source": [
    "### String Slicing\n"
   ]
  },
  {
   "cell_type": "code",
   "execution_count": 38,
   "metadata": {},
   "outputs": [
    {
     "name": "stdout",
     "output_type": "stream",
     "text": [
      "P\n",
      "g\n",
      "g\n",
      "i\n",
      "Python\n",
      "Programming\n",
      "Programming\n",
      "Pyt\n"
     ]
    }
   ],
   "source": [
    "s1='Python Programming'\n",
    "print(s1[0])#Accessing first character\n",
    "print(s1[-1])#Accessing last character\n",
    "print(s1[len(s1)-1])\n",
    "print(s1[len(s1)-3])\n",
    "print(s1[0:6])#acessing first six characters\n",
    "print(s1[7:])#accessing all characters from 7th index to last\n",
    "print(s1[7:len(s1)])#accessing all characters from 7th index to last\n",
    "print(s1[:3])\n",
    "\n"
   ]
  },
  {
   "cell_type": "code",
   "execution_count": 44,
   "metadata": {},
   "outputs": [
    {
     "name": "stdout",
     "output_type": "stream",
     "text": [
      "Python Programming\n",
      "gnimmargorP nohtyP\n",
      "Programmin\n",
      "gnimmargorP\n",
      "nohtyP\n",
      "gnimmargorP\n"
     ]
    }
   ],
   "source": [
    "print(s1[::])\n",
    "print(s1[::-1])#Revse of a string or [-1::-1]\n",
    "print(s1[7:-1])\n",
    "print(s1[-1:6:-1])#Reverse of sub string\n",
    "print(s1[5::-1])#Revese of a sub string\n",
    "print(s1[len(s1):6:-1])"
   ]
  },
  {
   "cell_type": "code",
   "execution_count": 51,
   "metadata": {},
   "outputs": [
    {
     "name": "stdout",
     "output_type": "stream",
     "text": [
      "654\n",
      "\n",
      "987654\n"
     ]
    }
   ],
   "source": [
    "s2='123456'\n",
    "print(s2[-1:2:-1])#revese of the last len(s2)-3\n",
    "print(s2[-1:2:-1])#revese of the last len(s2)-3\n",
    "s3='123456789'\n",
    "print(s3[-1:2:-1])#revese of the last len(s3)-3"
   ]
  },
  {
   "cell_type": "code",
   "execution_count": 49,
   "metadata": {},
   "outputs": [
    {
     "name": "stdout",
     "output_type": "stream",
     "text": [
      "654\n"
     ]
    }
   ],
   "source": [
    "print(s2[5:2:-1])#reverse of characters from index 5 to index 3"
   ]
  },
  {
   "cell_type": "code",
   "execution_count": 56,
   "metadata": {
    "scrolled": true
   },
   "outputs": [
    {
     "name": "stdout",
     "output_type": "stream",
     "text": [
      "123456\n",
      "12\n",
      "123\n",
      "2\n",
      "642\n"
     ]
    }
   ],
   "source": [
    "print(s2)\n",
    "#Alternative slicing\n",
    "print(s2[0:2])\n",
    "print(s2[0:3])\n",
    "print(s2[1:2])\n",
    "print(s2[-1::-2])#alternatie characters in reverse"
   ]
  },
  {
   "cell_type": "markdown",
   "metadata": {},
   "source": [
    "### Functions in python"
   ]
  },
  {
   "cell_type": "code",
   "execution_count": 60,
   "metadata": {},
   "outputs": [
    {
     "name": "stdout",
     "output_type": "stream",
     "text": [
      "123456\n",
      "reverse=654321\n"
     ]
    }
   ],
   "source": [
    "def reverseString(s):\n",
    "    return s[::-1]\n",
    "print(s2)\n",
    "reverseString(s2)\n",
    "print(\"reverse=\"+reverseString(s2))\n",
    "\n",
    "\n"
   ]
  },
  {
   "cell_type": "markdown",
   "metadata": {},
   "source": [
    "### Function to reverse a sub string\n"
   ]
  },
  {
   "cell_type": "code",
   "execution_count": 63,
   "metadata": {},
   "outputs": [
    {
     "name": "stdout",
     "output_type": "stream",
     "text": [
      "dcb\n",
      "\n"
     ]
    }
   ],
   "source": [
    "        #i is starting index and j is last idex of sub string\n",
    "def reverseSubstring(s,i,j):\n",
    "    sub=s[i:j+1]\n",
    "    return sub[::-1] #s[j:i-1:-1] \n",
    "print(reverseSubstring('abcde',1,3))  # out put should be dcb\n",
    "print(reverseSubstring('abcde',0,2))#o/p cba  "
   ]
  },
  {
   "cell_type": "code",
   "execution_count": 64,
   "metadata": {},
   "outputs": [
    {
     "name": "stdout",
     "output_type": "stream",
     "text": [
      "dcb\n",
      "cba\n"
     ]
    }
   ],
   "source": [
    "def reverseSubstring(s,i,j):\n",
    "    sub=s[i:j+1]\n",
    "    return sub[::-1] #s[j:i-1:-1] \n",
    "print(reverseSubstring('abcde',1,3))  # out put should be dcb\n",
    "print(reverseSubstring('abcde',0,2))#o/p cba  "
   ]
  },
  {
   "cell_type": "markdown",
   "metadata": {},
   "source": [
    "### Conditional Control Structures"
   ]
  },
  {
   "cell_type": "code",
   "execution_count": 66,
   "metadata": {},
   "outputs": [
    {
     "name": "stdout",
     "output_type": "stream",
     "text": [
      "True\n",
      "False\n"
     ]
    }
   ],
   "source": [
    "# Function to test divisibility by 9 and 11 and not 10\n",
    "def divisibilityTest(n):\n",
    "    if(n % 9 == 0 and n % 11 ==0 and n % 10 !=0): # we can remove brackets\n",
    "        return True\n",
    "    else:\n",
    "        return False\n",
    "print(divisibilityTest(99))\n",
    "print(divisibilityTest(990))"
   ]
  },
  {
   "cell_type": "code",
   "execution_count": 69,
   "metadata": {},
   "outputs": [
    {
     "name": "stdout",
     "output_type": "stream",
     "text": [
      "64\n"
     ]
    }
   ],
   "source": [
    "# Recursive Function for a power n\n",
    "def powerN(a,n):\n",
    "    if n==0:\n",
    "        return 1\n",
    "    return a*powerN(a,n-1)\n",
    "print(powerN(2,6))"
   ]
  },
  {
   "cell_type": "code",
   "execution_count": 101,
   "metadata": {},
   "outputs": [
    {
     "name": "stdout",
     "output_type": "stream",
     "text": [
      "palidrome\n",
      "palidrome\n"
     ]
    }
   ],
   "source": [
    "# String Palindrome Function\n",
    "def isPalindrome(a):\n",
    "    b=a[::-1]\n",
    "    if a == b:\n",
    "        return print(\"palidrome\")\n",
    "    else:\n",
    "        return print(\"not a palindrome\")\n",
    "\n",
    "isPalindrome(\"aba\")\n"
   ]
  },
  {
   "cell_type": "markdown",
   "metadata": {},
   "source": [
    "### Iterations"
   ]
  },
  {
   "cell_type": "code",
   "execution_count": null,
   "metadata": {},
   "outputs": [],
   "source": []
  },
  {
   "cell_type": "code",
   "execution_count": 85,
   "metadata": {},
   "outputs": [
    {
     "data": {
      "text/plain": [
       "range(123, 234)"
      ]
     },
     "execution_count": 85,
     "metadata": {},
     "output_type": "execute_result"
    }
   ],
   "source": [
    "range(123,234)\n",
    "\n"
   ]
  },
  {
   "cell_type": "code",
   "execution_count": 86,
   "metadata": {},
   "outputs": [
    {
     "name": "stdout",
     "output_type": "stream",
     "text": [
      "123\n",
      "124\n",
      "125\n"
     ]
    }
   ],
   "source": [
    "for i in range(123,126):\n",
    "    print(i)"
   ]
  },
  {
   "cell_type": "code",
   "execution_count": 88,
   "metadata": {},
   "outputs": [
    {
     "name": "stdout",
     "output_type": "stream",
     "text": [
      "7\n",
      "14\n",
      "21\n",
      "28\n",
      "35\n",
      "42\n",
      "49\n",
      "56\n",
      "63\n",
      "70\n"
     ]
    }
   ],
   "source": [
    "# determine all numbers divisible by 7 in a given range [lb,ub]\n",
    "\n",
    "def divisible7(lb,ub):\n",
    "    for i in range(lb,ub+1):\n",
    "        if i % 7 ==0:\n",
    "            print(i)\n",
    "    return\n",
    "divisible7(1,70)\n",
    "    "
   ]
  },
  {
   "cell_type": "code",
   "execution_count": 112,
   "metadata": {},
   "outputs": [
    {
     "name": "stdout",
     "output_type": "stream",
     "text": [
      "2 3 5 7 11 13 17 19 23 29 0.0006081240007915767\n"
     ]
    }
   ],
   "source": [
    "# Function to generate k prime numbers\n",
    " # from math import sqrt,floor\n",
    "import timeit    \n",
    "def isFactor(dividend,divisor):\n",
    "    if(dividend % divisor == 0):\n",
    "        return True\n",
    "    else:\n",
    "        return False\n",
    "def isPrime(n):\n",
    "    for i in range(2,n//2 + 1): # for i in range(2,floor(sqrt(n))+1)\n",
    "        if isFactor(n,i):\n",
    "            return False\n",
    "    return True\n",
    "        \n",
    "    \n",
    "    \n",
    "def getPrimes(k):\n",
    "    primeCounter = 0\n",
    "    seqCounter=2\n",
    "    while (primeCounter < k):\n",
    "        if isPrime(seqCounter):\n",
    "            print(seqCounter,end=' ')\n",
    "            primeCounter +=1\n",
    "        seqCounter +=1\n",
    "st=timeit.default_timer()\n",
    "getPrimes(10)\n",
    "print(timeit.default_timer()-st)\n",
    "    \n"
   ]
  },
  {
   "cell_type": "markdown",
   "metadata": {},
   "source": [
    "# Python List"
   ]
  },
  {
   "cell_type": "code",
   "execution_count": 113,
   "metadata": {},
   "outputs": [
    {
     "data": {
      "text/plain": [
       "[1, 2, 3, 4, 5, 6]"
      ]
     },
     "execution_count": 113,
     "metadata": {},
     "output_type": "execute_result"
    }
   ],
   "source": [
    "li=[1,2,3,4,5,6]\n",
    "li"
   ]
  },
  {
   "cell_type": "code",
   "execution_count": 114,
   "metadata": {},
   "outputs": [
    {
     "data": {
      "text/plain": [
       "5.67"
      ]
     },
     "execution_count": 114,
     "metadata": {},
     "output_type": "execute_result"
    }
   ],
   "source": [
    "li=[1,2,3,4,5,6,5.67]\n",
    "li[-1]"
   ]
  },
  {
   "cell_type": "code",
   "execution_count": 116,
   "metadata": {},
   "outputs": [
    {
     "data": {
      "text/plain": [
       "['python ', 5.67]"
      ]
     },
     "execution_count": 116,
     "metadata": {},
     "output_type": "execute_result"
    }
   ],
   "source": [
    "li=[1,2,3,4,5,6, 'python ', 5.67]\n",
    "li[-2:]\n"
   ]
  },
  {
   "cell_type": "code",
   "execution_count": 117,
   "metadata": {},
   "outputs": [
    {
     "data": {
      "text/plain": [
       "'p'"
      ]
     },
     "execution_count": 117,
     "metadata": {},
     "output_type": "execute_result"
    }
   ],
   "source": [
    "li=[1,2,3,4,5,6, 'python ', 5.67]\n",
    "li[6][0]"
   ]
  },
  {
   "cell_type": "code",
   "execution_count": 118,
   "metadata": {},
   "outputs": [
    {
     "data": {
      "text/plain": [
       "str"
      ]
     },
     "execution_count": 118,
     "metadata": {},
     "output_type": "execute_result"
    }
   ],
   "source": [
    "li=[1,2,3,4,5,6, 'python ', 5.67]\n",
    "type(li[6][0])"
   ]
  },
  {
   "cell_type": "code",
   "execution_count": 122,
   "metadata": {},
   "outputs": [
    {
     "name": "stdout",
     "output_type": "stream",
     "text": [
      "[1, 2, 3, 4, 5, 6, 'python ', 5.67, 123]\n",
      "[1, 2, 3, 4, 5, 6, 'python ', 5.67, 123, [321, 543, 765]]\n",
      "[1, 2, 3, 4, 5, 6, 'python ', 123, [321, 543, 765]]\n"
     ]
    }
   ],
   "source": [
    "li=[1,2,3,4,5,6, 'python ', 5.67]\n",
    "li.append(123)\n",
    "print(li)\n",
    "li.append([321,543,765])added as sub list to li\n",
    "print(li)\n",
    "li.remove(5.67)\n",
    "print(li)"
   ]
  },
  {
   "cell_type": "code",
   "execution_count": 129,
   "metadata": {},
   "outputs": [
    {
     "name": "stdout",
     "output_type": "stream",
     "text": [
      "[1, 2, 3, 4, 5.6, 6, 7, 9, 8]\n",
      "after sort values are:\n",
      "[9, 8, 7, 6, 5.6, 4, 3, 2, 1]\n"
     ]
    }
   ],
   "source": [
    "li1=[1,2,3,4,5.6,6]\n",
    "li2=[7,9,8]\n",
    "li1.extend(li2)#merges all elemnts li2 into li1\n",
    "print(li1)\n",
    "li1.sort(reverse=True)\n",
    "print(\"after sort values are:\")\n",
    "print(li1)"
   ]
  },
  {
   "cell_type": "code",
   "execution_count": null,
   "metadata": {},
   "outputs": [],
   "source": []
  }
 ],
 "metadata": {
  "kernelspec": {
   "display_name": "Python 3",
   "language": "python",
   "name": "python3"
  },
  "language_info": {
   "codemirror_mode": {
    "name": "ipython",
    "version": 3
   },
   "file_extension": ".py",
   "mimetype": "text/x-python",
   "name": "python",
   "nbconvert_exporter": "python",
   "pygments_lexer": "ipython3",
   "version": "3.7.3"
  }
 },
 "nbformat": 4,
 "nbformat_minor": 2
}
