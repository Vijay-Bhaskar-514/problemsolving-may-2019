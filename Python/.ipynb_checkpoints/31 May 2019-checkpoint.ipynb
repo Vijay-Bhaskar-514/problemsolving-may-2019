{
 "cells": [
  {
   "cell_type": "markdown",
   "metadata": {},
   "source": [
    "# JNTUA FDP - Day 05\n",
    "### Date 31 May 2019\n",
    "#### Day Objectives\n",
    "* Tuples\n",
    "* Dictionaries\n",
    "* Linear and Binary Search\n",
    "* Data Arithmetic\n",
    "* Iterators and Generators\n",
    "* Functional Programming"
   ]
  },
  {
   "cell_type": "markdown",
   "metadata": {},
   "source": [
    "#### Python Tuples\n"
   ]
  },
  {
   "cell_type": "code",
   "execution_count": 5,
   "metadata": {},
   "outputs": [],
   "source": [
    "t1  = (1001,'bhaskar',72,90)"
   ]
  },
  {
   "cell_type": "code",
   "execution_count": 6,
   "metadata": {},
   "outputs": [
    {
     "data": {
      "text/plain": [
       "(1001, 'bhaskar', 72, 90)"
      ]
     },
     "execution_count": 6,
     "metadata": {},
     "output_type": "execute_result"
    }
   ],
   "source": [
    "t1"
   ]
  },
  {
   "cell_type": "code",
   "execution_count": 7,
   "metadata": {},
   "outputs": [
    {
     "data": {
      "text/plain": [
       "1001"
      ]
     },
     "execution_count": 7,
     "metadata": {},
     "output_type": "execute_result"
    }
   ],
   "source": [
    "t1[0]"
   ]
  },
  {
   "cell_type": "code",
   "execution_count": 9,
   "metadata": {},
   "outputs": [
    {
     "data": {
      "text/plain": [
       "(72, 90)"
      ]
     },
     "execution_count": 9,
     "metadata": {},
     "output_type": "execute_result"
    }
   ],
   "source": [
    "t1[2:]"
   ]
  },
  {
   "cell_type": "code",
   "execution_count": 15,
   "metadata": {},
   "outputs": [
    {
     "data": {
      "text/plain": [
       "('2', '5', '8')"
      ]
     },
     "execution_count": 15,
     "metadata": {},
     "output_type": "execute_result"
    }
   ],
   "source": [
    "t2=(321,654,789098)\n",
    "str(t2[0])[1], str(t2[1])[1], str(t2[2])[1]"
   ]
  },
  {
   "cell_type": "code",
   "execution_count": 13,
   "metadata": {},
   "outputs": [
    {
     "name": "stdout",
     "output_type": "stream",
     "text": [
      "2 5 8\n"
     ]
    }
   ],
   "source": [
    "t2=(321,654,789098)\n",
    "print(str(t2[0])[1],str(t2[1])[1],str(t2[2])[1])\n"
   ]
  },
  {
   "cell_type": "code",
   "execution_count": 22,
   "metadata": {},
   "outputs": [
    {
     "data": {
      "text/plain": [
       "317.8"
      ]
     },
     "execution_count": 22,
     "metadata": {},
     "output_type": "execute_result"
    }
   ],
   "source": [
    "# Average of all elements in a tuple\n",
    "def averageLinearDs(t):\n",
    "    sum = 0\n",
    "    for i in range(0,len(t)):\n",
    "        sum +=t[i]\n",
    "    return sum/len(t)\n",
    "li=[123,243,456,678,89]\n",
    "\n",
    "averageLinearDs(li)"
   ]
  },
  {
   "cell_type": "code",
   "execution_count": 81,
   "metadata": {},
   "outputs": [
    {
     "data": {
      "text/plain": [
       "317.8"
      ]
     },
     "execution_count": 81,
     "metadata": {},
     "output_type": "execute_result"
    }
   ],
   "source": [
    "# Average of all elements in a tuple\n",
    "def averageLinearDs(t):\n",
    "    sum = 0\n",
    "    for item in t:    #  using iterator\n",
    "        sum +=item\n",
    "    return sum/len(t)\n",
    "li=[123,243,456,678,89]\n",
    "\n",
    "averageLinearDs(li)"
   ]
  },
  {
   "cell_type": "code",
   "execution_count": 44,
   "metadata": {},
   "outputs": [
    {
     "data": {
      "text/plain": [
       "-1"
      ]
     },
     "execution_count": 44,
     "metadata": {},
     "output_type": "execute_result"
    }
   ],
   "source": [
    "# Function to search in linear Data structure\n",
    "def searchLinearDs(ds,key):\n",
    "    for i in range(0,len(ds)):\n",
    "        if(key==ds[i]):\n",
    "            return i\n",
    "    return -1\n",
    "            \n",
    "li=[123,243,456,678,89]\n",
    "s=4565\n",
    "searchLinearDs(li,s)"
   ]
  },
  {
   "cell_type": "code",
   "execution_count": 80,
   "metadata": {},
   "outputs": [
    {
     "data": {
      "text/plain": [
       "317.8"
      ]
     },
     "execution_count": 80,
     "metadata": {},
     "output_type": "execute_result"
    }
   ],
   "source": [
    "# Average of all elements in a tuple\n",
    "def averageLinearDs(t):\n",
    "    sum = 0\n",
    "    for item in t:\n",
    "        sum +=item\n",
    "    return sum/len(t)\n",
    "li=[123,243,456,678,89]\n",
    "\n",
    "averageLinearDs(li)"
   ]
  },
  {
   "cell_type": "markdown",
   "metadata": {},
   "source": [
    "# Iterable Objects"
   ]
  },
  {
   "cell_type": "code",
   "execution_count": 45,
   "metadata": {},
   "outputs": [
    {
     "name": "stdout",
     "output_type": "stream",
     "text": [
      "p\n",
      "a\n",
      "h\n"
     ]
    }
   ],
   "source": [
    "s='pah'\n",
    "for c in s:\n",
    "    print(c)"
   ]
  },
  {
   "cell_type": "code",
   "execution_count": 50,
   "metadata": {},
   "outputs": [
    {
     "data": {
      "text/plain": [
       "678"
      ]
     },
     "execution_count": 50,
     "metadata": {},
     "output_type": "execute_result"
    }
   ],
   "source": [
    "# Function to find maximum element in a ds using iterable Object\n",
    "def maxElementDS(ds):\n",
    "    maximum=ds[0]\n",
    "    for item in ds:\n",
    "        if item > maximum:\n",
    "            maximum=item\n",
    "    return maximum\n",
    "maxElementDS(li)"
   ]
  },
  {
   "cell_type": "markdown",
   "metadata": {},
   "source": [
    "## Python Dictionaries"
   ]
  },
  {
   "cell_type": "code",
   "execution_count": 56,
   "metadata": {},
   "outputs": [
    {
     "name": "stdout",
     "output_type": "stream",
     "text": [
      "{'name1': 1234, 'name2': 5678}\n",
      "5678\n",
      "dict_keys(['name1', 'name2'])\n",
      "dict_values([1234, 5678])\n"
     ]
    }
   ],
   "source": [
    "d1={'name1':1234,'name2':5678}\n",
    "print(d1)\n",
    "print(d1['name2'])\n",
    "print(d1.keys())# All Keys in a dictionary are unique\n",
    "print(d1.values())\n"
   ]
  },
  {
   "cell_type": "code",
   "execution_count": 57,
   "metadata": {},
   "outputs": [
    {
     "data": {
      "text/plain": [
       "{'name1': 1234, 'name2': 5678, 'name3': 7865}"
      ]
     },
     "execution_count": 57,
     "metadata": {},
     "output_type": "execute_result"
    }
   ],
   "source": [
    "d1['name3']=7865\n",
    "d1\n"
   ]
  },
  {
   "cell_type": "code",
   "execution_count": 58,
   "metadata": {},
   "outputs": [
    {
     "data": {
      "text/plain": [
       "{'name1': 1234, 'name2': 5678}"
      ]
     },
     "execution_count": 58,
     "metadata": {},
     "output_type": "execute_result"
    }
   ],
   "source": [
    "d1.pop('name3')#removes a key and value\n",
    "d1"
   ]
  },
  {
   "cell_type": "code",
   "execution_count": 59,
   "metadata": {},
   "outputs": [
    {
     "data": {
      "text/plain": [
       "{'name1': 1234, 'name2': 5678, 'name3': 'bachi'}"
      ]
     },
     "execution_count": 59,
     "metadata": {},
     "output_type": "execute_result"
    }
   ],
   "source": [
    "d1['name3']='bachi'\n",
    "d1\n"
   ]
  },
  {
   "cell_type": "code",
   "execution_count": 82,
   "metadata": {},
   "outputs": [],
   "source": [
    "# simple Contacts application   (pending)\n",
    "# Dispay, Add, Modify, and Delete Contacts\n",
    "contacts={}\n",
    "def addContact(d,name,phone):\n",
    "    d[name]=phone\n",
    "    return\n",
    "\n",
    "def displayContacts(contacts):\n",
    "    for name,phone in contacts.items():\n",
    "        print(name,\":\",phone)\n",
    "    return\n",
    "def modifyContacts(contacts,name,newphone):\n",
    "    contacts[name]=newphone\n",
    "    return\n",
    "def deleteContact(contacts,name):\n",
    "    contacts.pop(name)\n",
    "    return"
   ]
  },
  {
   "cell_type": "code",
   "execution_count": 83,
   "metadata": {},
   "outputs": [
    {
     "name": "stdout",
     "output_type": "stream",
     "text": [
      "name1 : 987899\n",
      "name2 : 34567\n"
     ]
    }
   ],
   "source": [
    "addContact(contacts,'name1',987899)\n",
    "addContact(contacts,'name2',34567)\n",
    "\n",
    "displayContacts(contacts)"
   ]
  },
  {
   "cell_type": "code",
   "execution_count": 73,
   "metadata": {},
   "outputs": [
    {
     "name": "stdout",
     "output_type": "stream",
     "text": [
      "<class 'list_reverseiterator'>\n",
      "4\n",
      "3\n",
      "2\n",
      "1\n"
     ]
    }
   ],
   "source": [
    "li=[1,2,3,4]\n",
    "li=reversed(li)\n",
    "print(type(li))\n",
    "for i in li:\n",
    "    print(i)"
   ]
  },
  {
   "cell_type": "code",
   "execution_count": 74,
   "metadata": {},
   "outputs": [
    {
     "name": "stdout",
     "output_type": "stream",
     "text": [
      "<class 'list'>\n",
      "4\n",
      "3\n",
      "2\n",
      "1\n"
     ]
    }
   ],
   "source": [
    "li=[1,2,3,4]\n",
    "li=list(reversed(li))\n",
    "print(type(li))\n",
    "for i in li:\n",
    "    print(i)"
   ]
  },
  {
   "cell_type": "code",
   "execution_count": 75,
   "metadata": {},
   "outputs": [
    {
     "name": "stdout",
     "output_type": "stream",
     "text": [
      "0 : 4\n",
      "1 : 3\n",
      "2 : 2\n",
      "3 : 1\n"
     ]
    }
   ],
   "source": [
    "enumerate(li)\n",
    "for i,value in enumerate(li):\n",
    "    print(i,\":\",value)\n",
    "    "
   ]
  },
  {
   "cell_type": "code",
   "execution_count": 76,
   "metadata": {},
   "outputs": [
    {
     "name": "stdout",
     "output_type": "stream",
     "text": [
      "1 5\n",
      "2 6\n",
      "3 7\n",
      "4 8\n"
     ]
    }
   ],
   "source": [
    "li1=[1,2,3,4]\n",
    "li2=[5,6,7,8,9]\n",
    "for i,j in zip(li1,li2): #displays same minimum number of elements(in li1 there are 4 so we will get  values)\n",
    "    print(i,j)\n"
   ]
  },
  {
   "cell_type": "code",
   "execution_count": null,
   "metadata": {},
   "outputs": [],
   "source": []
  }
 ],
 "metadata": {
  "kernelspec": {
   "display_name": "Python 3",
   "language": "python",
   "name": "python3"
  },
  "language_info": {
   "codemirror_mode": {
    "name": "ipython",
    "version": 3
   },
   "file_extension": ".py",
   "mimetype": "text/x-python",
   "name": "python",
   "nbconvert_exporter": "python",
   "pygments_lexer": "ipython3",
   "version": "3.7.3"
  }
 },
 "nbformat": 4,
 "nbformat_minor": 2
}
